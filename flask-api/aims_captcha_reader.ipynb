{
 "cells": [
  {
   "cell_type": "code",
   "execution_count": 1,
   "metadata": {},
   "outputs": [],
   "source": [
    "import torch\n",
    "import os\n",
    "import cv2\n",
    "import numpy as np\n",
    "from torch.utils.data import Dataset, DataLoader\n",
    "import torch.nn as nn\n",
    "import joblib"
   ]
  },
  {
   "cell_type": "code",
   "execution_count": 2,
   "metadata": {},
   "outputs": [
    {
     "name": "stdout",
     "output_type": "stream",
     "text": [
      "{'0': 0, '1': 1, '2': 2, '3': 3, '4': 4, '5': 5, '6': 6, '7': 7, '8': 8, '9': 9, 'a': 10, 'b': 11, 'c': 12, 'd': 13, 'e': 14, 'f': 15, 'g': 16, 'h': 17, 'i': 18, 'j': 19, 'k': 20, 'l': 21, 'm': 22, 'n': 23, 'o': 24, 'p': 25, 'q': 26, 'r': 27, 's': 28, 't': 29, 'u': 30, 'v': 31, 'w': 32, 'x': 33, 'y': 34, 'z': 35, 'A': 36, 'B': 37, 'C': 38, 'D': 39, 'E': 40, 'F': 41, 'G': 42, 'H': 43, 'I': 44, 'J': 45, 'K': 46, 'L': 47, 'M': 48, 'N': 49, 'O': 50, 'P': 51, 'Q': 52, 'R': 53, 'S': 54, 'T': 55, 'U': 56, 'V': 57, 'W': 58, 'X': 59, 'Y': 60, 'Z': 61}\n"
     ]
    }
   ],
   "source": [
    "label2int_dict = {}\n",
    "for i in range(62):\n",
    "    if i < 10:\n",
    "        label2int_dict[str(i)] = i\n",
    "    \n",
    "    elif i <36:\n",
    "        label2int_dict[chr(97 + i - 10)] = i\n",
    "    \n",
    "    else:\n",
    "        label2int_dict[chr(65 + i - 36)] = i\n",
    "\n",
    "int2label_dict = {}\n",
    "for key in label2int_dict:\n",
    "    int2label_dict[label2int_dict[key]] = key\n",
    "\n",
    "print(label2int_dict)"
   ]
  },
  {
   "cell_type": "code",
   "execution_count": 3,
   "metadata": {},
   "outputs": [],
   "source": [
    "def separate(full_image):\n",
    "    # vertical cutting\n",
    "    prev = False\n",
    "    prev2 = False\n",
    "    arr = []\n",
    "    for i in range(full_image[0].shape[0]):\n",
    "\n",
    "        if np.all(full_image[:, i] < 127) and not prev:\n",
    "            arr.append(i)\n",
    "            prev = True\n",
    "            prev2 = False\n",
    "        elif not np.all(full_image[:, i] < 127) and not prev2:\n",
    "            arr.append(i)\n",
    "            prev2 = True\n",
    "            prev = False\n",
    "    # --------------\n",
    "    \n",
    "    crop_img = []\n",
    "\n",
    "    for i in range((len(arr) - 1) // 2):\n",
    "        image = full_image[:, arr[2*i + 1]: arr[2*i + 2]]\n",
    "\n",
    "        # horizontal cutting\n",
    "        prev = False\n",
    "        prev2 = False\n",
    "        arr2 = []\n",
    "        for j in range(image.shape[0]):\n",
    "            if np.all(image[j, :] < 127) and not prev:\n",
    "                arr2.append(j)\n",
    "                prev = True\n",
    "                prev2 = False\n",
    "\n",
    "            elif not np.all(image[j, :] < 127) and not prev2:\n",
    "                arr2.append(j)\n",
    "                prev2 = True\n",
    "                prev = False\n",
    "\n",
    "        image = image[arr2[1]: arr2[-1], :]\n",
    "        # --------------\n",
    "\n",
    "        # padding\n",
    "        pad_width = int((image.shape[0] - image.shape[1]) / 2)\n",
    "        pad_size = 5\n",
    "        if pad_width > 0:\n",
    "            image = np.pad(image, ((pad_size, pad_size), (pad_width + pad_size, pad_width + pad_size)), mode=\"constant\")\n",
    "        \n",
    "        else:\n",
    "            image = np.pad(image, ((pad_size - pad_width, pad_size - pad_width), (pad_size, pad_size)), mode=\"constant\")\n",
    "        # ----------\n",
    "        \n",
    "        resized_image = cv2.resize(image, (28, 28), cv2.INTER_CUBIC)\n",
    "\n",
    "        final_img = torch.from_numpy(resized_image)\n",
    "        crop_img.append(final_img)\n",
    "\n",
    "    return crop_img    "
   ]
  },
  {
   "cell_type": "code",
   "execution_count": 4,
   "metadata": {},
   "outputs": [],
   "source": [
    "\n",
    "input_data = torch.empty(24000, 28, 28)\n",
    "label_data = torch.empty(24000, dtype=int)\n",
    "\n",
    "k = 0\n",
    "for file in os.listdir(\"data\"):\n",
    "    \n",
    "    image = cv2.imread(os.path.join(\"data\", file))\n",
    "\n",
    "    process_image = cv2.cvtColor(image, cv2.COLOR_BGR2GRAY)\n",
    "\n",
    "    threshold, process_image = cv2.threshold(process_image, 0, 255, cv2.THRESH_OTSU)\n",
    "\n",
    "    \n",
    "    img_list = separate(process_image)\n",
    "\n",
    "    for  i in range(len(img_list)):\n",
    "        input_data[k] = img_list[i]\n",
    "        label_data[k] = label2int_dict[file[i]]\n",
    "\n",
    "        k += 1\n",
    "        if k == 24000:\n",
    "            break\n",
    "\n",
    "    if k == 24000:\n",
    "        break"
   ]
  },
  {
   "cell_type": "code",
   "execution_count": 5,
   "metadata": {},
   "outputs": [],
   "source": [
    "train_input = input_data[:20000]\n",
    "train_label = label_data[:20000]\n",
    "\n",
    "test_input = input_data[20000:]\n",
    "test_label = label_data[20000:]"
   ]
  },
  {
   "cell_type": "code",
   "execution_count": 6,
   "metadata": {},
   "outputs": [],
   "source": [
    "class dataset():\n",
    "    def __init__(self, inputs, labels):\n",
    "        self.inputs = inputs\n",
    "        self.labels = labels\n",
    "    \n",
    "    def __len__(self):\n",
    "        return len(self.inputs)\n",
    "    \n",
    "    def __getitem__(self, index):\n",
    "        return self.inputs[index], self.labels[index]\n",
    "\n",
    "\n",
    "dataset = dataset(train_input, train_label)\n",
    "\n",
    "batch_size = 8\n",
    "\n",
    "dataloader = DataLoader(dataset, batch_size, shuffle=True, drop_last=True)"
   ]
  },
  {
   "cell_type": "code",
   "execution_count": 7,
   "metadata": {},
   "outputs": [],
   "source": [
    "class Classifier(nn.Module):\n",
    "    def __init__(self, n_labels, loader_size, lr):\n",
    "        super().__init__()\n",
    "        self.lr = lr\n",
    "        self.n_labels = n_labels\n",
    "        self.loader_size = loader_size\n",
    "        # layers\n",
    "        self.conv1 = nn.Conv2d(1, 16, kernel_size=3, stride=1)\n",
    "        self.pool2 = nn.AvgPool2d(2)\n",
    "        self.conv2 = nn.Conv2d(16, 32, kernel_size=3, stride=1)\n",
    "        self.pool2 = nn.AvgPool2d(2)\n",
    "\n",
    "        self.fc1 = nn.Linear(800, 256)\n",
    "\n",
    "        self.fc2 = nn.Linear(256, n_labels)\n",
    "\n",
    "        # loss function\n",
    "        self.lossFn = nn.MSELoss()\n",
    "\n",
    "        # optimizer\n",
    "        self.optimizer = torch.optim.SGD(self.parameters(), self.lr)\n",
    "\n",
    "\n",
    "    # output function\n",
    "    def output(self,input):\n",
    "        conv1_out = nn.ReLU()(self.conv1(input))\n",
    "        pool1_out = self.pool2(conv1_out)\n",
    "        conv2_out = nn.ReLU()(self.conv2(pool1_out))\n",
    "        pool2_out = self.pool2(conv2_out)\n",
    "\n",
    "\n",
    "        flatten_out = pool2_out.view(pool2_out.shape[0], -1)\n",
    "\n",
    "        out = torch.empty(flatten_out.shape[0], self.n_labels)\n",
    "\n",
    "        for i in range(flatten_out.shape[0]):\n",
    "            fc1_out = nn.ReLU()(self.fc1(flatten_out[i]))\n",
    "            \n",
    "            fc2_out = self.fc2(fc1_out)\n",
    "\n",
    "            softmax_out = nn.Softmax(dim=-1)(fc2_out)\n",
    "\n",
    "            out[i] = softmax_out\n",
    "\n",
    "        return out\n",
    "    \n",
    "    # training function\n",
    "    def train(self, dataloader, n_epochs):\n",
    "        for i in range(n_epochs):\n",
    "\n",
    "            epoch_loss = 0\n",
    "            \n",
    "\n",
    "            for inputs, labels in dataloader:            \n",
    "                inputs = inputs.unsqueeze(1)\n",
    "                output = self.output(inputs)\n",
    "\n",
    "                hot_enco = torch.empty(self.loader_size, self.n_labels)\n",
    "                for j in range(self.loader_size):\n",
    "                    hot_enco[j] = torch.zeros(self.n_labels)\n",
    "                    hot_enco[j][labels[j]] = 1\n",
    "\n",
    "                self.optimizer.zero_grad()\n",
    "\n",
    "                loss = self.lossFn(hot_enco, output)\n",
    "\n",
    "                epoch_loss += loss\n",
    "\n",
    "                loss.backward()\n",
    "\n",
    "                self.optimizer.step()\n",
    "            print(f\"loss at epoch {i+1}: {epoch_loss.item()}\")"
   ]
  },
  {
   "cell_type": "code",
   "execution_count": 10,
   "metadata": {},
   "outputs": [
    {
     "name": "stdout",
     "output_type": "stream",
     "text": [
      "loss at epoch 1: 18.693058013916016\n",
      "loss at epoch 2: 8.538896560668945\n",
      "loss at epoch 3: 5.81599760055542\n",
      "loss at epoch 4: 3.5010647773742676\n",
      "loss at epoch 5: 2.057953357696533\n",
      "loss at epoch 6: 2.0340616703033447\n",
      "loss at epoch 7: 2.0647101402282715\n",
      "loss at epoch 8: 2.0191779136657715\n",
      "loss at epoch 9: 2.0129785537719727\n",
      "loss at epoch 10: 2.0069315433502197\n",
      "loss at epoch 11: 2.0043785572052\n",
      "loss at epoch 12: 2.0052895545959473\n",
      "loss at epoch 13: 1.999671459197998\n",
      "loss at epoch 14: 1.476036787033081\n",
      "loss at epoch 15: 1.0949585437774658\n",
      "loss at epoch 16: 1.0907527208328247\n",
      "loss at epoch 17: 1.0926839113235474\n",
      "loss at epoch 18: 1.0885788202285767\n",
      "loss at epoch 19: 1.085910439491272\n",
      "loss at epoch 20: 1.0845332145690918\n"
     ]
    }
   ],
   "source": [
    "classifier_inst = Classifier(62, 8, .08)\n",
    "\n",
    "classifier_inst.train(dataloader, 20)"
   ]
  },
  {
   "cell_type": "code",
   "execution_count": 13,
   "metadata": {},
   "outputs": [
    {
     "data": {
      "text/plain": [
       "['captcha_reader.joblib']"
      ]
     },
     "execution_count": 13,
     "metadata": {},
     "output_type": "execute_result"
    }
   ],
   "source": [
    "joblib.dump(classifier_inst, \"captcha_reader.joblib\")\n"
   ]
  },
  {
   "cell_type": "code",
   "execution_count": 12,
   "metadata": {},
   "outputs": [
    {
     "name": "stdout",
     "output_type": "stream",
     "text": [
      "3904\n",
      "4000\n",
      "19536\n",
      "20000\n"
     ]
    }
   ],
   "source": [
    "test = 0\n",
    "for i in range(len(test_input)):\n",
    "    output = classifier_inst.output(test_input[i].unsqueeze(0).unsqueeze(0))\n",
    "    if torch.argmax(output) ==  test_label[i]:\n",
    "        test+= 1\n",
    "    # else:\n",
    "        # plt.imshow(test_input[i], cmap=\"gray\")\n",
    "        # plt.show()\n",
    "        # print(int2label_dict[torch.argmax(output).item()])\n",
    "print(test)\n",
    "print(len(test_input))\n",
    "test = 0\n",
    "for i in range(len(train_input)):\n",
    "    output = classifier_inst.output(train_input[i].unsqueeze(0).unsqueeze(0))\n",
    "    if torch.argmax(output) ==  train_label[i]:\n",
    "        test+= 1\n",
    "    \n",
    "print(test)\n",
    "print(len(train_input))"
   ]
  }
 ],
 "metadata": {
  "kernelspec": {
   "display_name": "Python 3",
   "language": "python",
   "name": "python3"
  },
  "language_info": {
   "codemirror_mode": {
    "name": "ipython",
    "version": 3
   },
   "file_extension": ".py",
   "mimetype": "text/x-python",
   "name": "python",
   "nbconvert_exporter": "python",
   "pygments_lexer": "ipython3",
   "version": "3.10.12"
  },
  "orig_nbformat": 4
 },
 "nbformat": 4,
 "nbformat_minor": 2
}
